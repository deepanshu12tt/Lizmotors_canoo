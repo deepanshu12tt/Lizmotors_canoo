{
 "cells": [
  {
   "cell_type": "code",
   "execution_count": 1,
   "id": "3ad09c87",
   "metadata": {},
   "outputs": [],
   "source": [
    "import requests\n",
    "from bs4 import BeautifulSoup\n",
    "import pandas as pd"
   ]
  },
  {
   "cell_type": "code",
   "execution_count": 2,
   "id": "c773d52d",
   "metadata": {},
   "outputs": [],
   "source": [
    "def scrape_data(url):\n",
    "    try:\n",
    "        response = requests.get(url)\n",
    "        response.raise_for_status()  \n",
    "        soup = BeautifulSoup(response.content, 'html.parser')\n",
    "        title = soup.find('title').get_text()\n",
    "        description_tag = soup.find('meta', {'name': 'description'})\n",
    "        description = description_tag.get('content') if description_tag else ''\n",
    "        \n",
    "        return {'title': title, 'description': description}\n",
    "    except Exception as e:\n",
    "        print(f\"Error scraping data from {url}: {e}\")\n",
    "        return None"
   ]
  },
  {
   "cell_type": "code",
   "execution_count": 3,
   "id": "416a6d1c",
   "metadata": {},
   "outputs": [],
   "source": [
    "query = {\n",
    "    \"Identify the industry in which Canoo operates\": [\n",
    "        \"https://www.statista.com/outlook/mmo/electric-vehicles/worldwide\",\n",
    "        \"https://www.mckinsey.com/features/mckinsey-center-for-future-mobility/our-insights/electric-vehicles-whats-ahead\",\n",
    "        \"https://www.ibisworld.com/united-states/market-research-reports/hybrid-electric-vehicle-manufacturing-industry/\"\n",
    "    ],\n",
    "    \"Analyze Canoo's main competitors\": [\n",
    "        \"https://www.marketbeat.com/stocks/NYSE/GOEV/competitors-and-alternatives/\",\n",
    "        \"https://www.cbinsights.com/company/evelozcity/alternatives-competitors\",\n",
    "        \"https://rivian.com/newsroom/media\"\n",
    "    ],\n",
    "    \"Identify key trends in the market\": [\n",
    "        \"https://www.bloomberg.com/news/newsletters/2024-01-09/electric-vehicle-market-looks-headed-for-22-growth-this-year\",\n",
    "        \"https://www.grandviewresearch.com/industry-analysis/electric-vehicles-ev-market\",\n",
    "        \"https://www.osti.gov/biblio/1974577\"\n",
    "    ],\n",
    "    \"Gather information on Canoo's financial performance\": [\n",
    "        \"https://investors.canoo.com/\",\n",
    "        \"https://finance.yahoo.com/quote/GOEV/?guccounter=1&guce_referrer=aHR0cHM6Ly93d3cuZ29vZ2xlLmNvbS8&guce_referrer_sig=AQAAAGuYyay_qFBxwVtiZZT_v-Y1r6smaqPM69Y8sbhNBu8mh-pnM-VOe7Vly-Y44znLlpCd--qp2hL5Cy9Bn0g9fN5LIDHrmFLRFQws0FcVHN9CKk6IDXT8so8LH-uMMpna6wAGJO49vLRly3nOvMGVXeh1J2fsFTL2leuXV-HTy_h2\",\n",
    "        \"https://www.marketwatch.com/investing/stock/goev\"\n",
    "    ]\n",
    "}"
   ]
  },
  {
   "cell_type": "code",
   "execution_count": 4,
   "id": "f8a72f65",
   "metadata": {},
   "outputs": [],
   "source": [
    "def scrape_query_data(query, urls):\n",
    "    data = []\n",
    "    for url in urls:\n",
    "        scraped_data = scrape_data(url)\n",
    "        if scraped_data:\n",
    "            data.append(scraped_data)\n",
    "    return data"
   ]
  },
  {
   "cell_type": "code",
   "execution_count": 7,
   "id": "149dc758",
   "metadata": {},
   "outputs": [],
   "source": [
    "query_data = {}\n",
    "for query, urls in query.items():\n",
    "    query_data[query] = scrape_query_data(query, urls)"
   ]
  },
  {
   "cell_type": "code",
   "execution_count": 8,
   "id": "ea66a32d",
   "metadata": {},
   "outputs": [],
   "source": [
    "for query, data in query_data.items():\n",
    "    df = pd.DataFrame(data)\n",
    "    filename = query.lower().replace(' ', '_') + '.csv'\n",
    "    df.to_csv(filename, index=False)"
   ]
  }
 ],
 "metadata": {
  "kernelspec": {
   "display_name": "Python 3 (ipykernel)",
   "language": "python",
   "name": "python3"
  },
  "language_info": {
   "codemirror_mode": {
    "name": "ipython",
    "version": 3
   },
   "file_extension": ".py",
   "mimetype": "text/x-python",
   "name": "python",
   "nbconvert_exporter": "python",
   "pygments_lexer": "ipython3",
   "version": "3.11.5"
  }
 },
 "nbformat": 4,
 "nbformat_minor": 5
}
